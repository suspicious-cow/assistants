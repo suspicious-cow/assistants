{
 "cells": [
  {
   "cell_type": "markdown",
   "metadata": {},
   "source": [
    "# Connecting to existing assistants"
   ]
  },
  {
   "cell_type": "code",
   "execution_count": 24,
   "metadata": {},
   "outputs": [
    {
     "name": "stdout",
     "output_type": "stream",
     "text": [
      "The medical plans available are the Medical Core Plan, Medical Buy-Up Plan, and Medical HDHP Plan【9†source】.\n"
     ]
    }
   ],
   "source": [
    "import openai\n",
    "import os\n",
    "import time\n",
    "\n",
    "# Set the OpenAI API key\n",
    "openai.api_key = os.getenv(\"OPENAI_API_KEY\")\n",
    "\n",
    "# Create a client instance\n",
    "client = openai.OpenAI()\n",
    "\n",
    "# Create and run the thread\n",
    "run = client.beta.threads.create_and_run(\n",
    "    assistant_id=\"<your assistant id here>\",\n",
    "    thread={\n",
    "        \"messages\": [\n",
    "            {\"role\": \"user\", \"content\": \"What are the medical plan names?\"}\n",
    "        ]\n",
    "    }\n",
    ")\n",
    "\n",
    "# Wait for the run to complete before trying to retrieve messages\n",
    "# Check the run status periodically\n",
    "while True:\n",
    "    run_status = client.beta.threads.runs.retrieve(\n",
    "        thread_id=run.thread_id,\n",
    "        run_id=run.id\n",
    "    )\n",
    "    \n",
    "    # Break the loop if the run is completed\n",
    "    if run_status.status == 'completed':\n",
    "        break\n",
    "    \n",
    "    # If not completed, wait for a short period before checking again\n",
    "    time.sleep(1)  # Sleep for 1 second\n",
    "\n",
    "# Once the run is completed, list messages\n",
    "messages = client.beta.threads.messages.list(thread_id=run.thread_id)\n",
    "\n",
    "# Now let's extract the text from the assistant's messages\n",
    "for message in messages.data:\n",
    "    # Check if the message is from the assistant\n",
    "    if message.role == 'assistant':\n",
    "        # Iterate through content of each message\n",
    "        for content in message.content:\n",
    "            # Check if the content is text\n",
    "            if content.type == 'text':\n",
    "                # Print the text content\n",
    "                print(content.text.value)\n"
   ]
  }
 ],
 "metadata": {
  "kernelspec": {
   "display_name": "openai",
   "language": "python",
   "name": "python3"
  },
  "language_info": {
   "codemirror_mode": {
    "name": "ipython",
    "version": 3
   },
   "file_extension": ".py",
   "mimetype": "text/x-python",
   "name": "python",
   "nbconvert_exporter": "python",
   "pygments_lexer": "ipython3",
   "version": "3.12.0"
  }
 },
 "nbformat": 4,
 "nbformat_minor": 2
}
